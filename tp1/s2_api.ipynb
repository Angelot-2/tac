{
 "cells": [
  {
   "cell_type": "markdown",
   "metadata": {},
   "source": [
    "# APIs: requêtes HTTP"
   ]
  },
  {
   "cell_type": "markdown",
   "metadata": {},
   "source": [
    "## Imports"
   ]
  },
  {
   "cell_type": "code",
   "execution_count": 2,
   "metadata": {},
   "outputs": [],
   "source": [
    "import requests\n",
    "import json\n",
    "\n"
   ]
  },
  {
   "cell_type": "code",
   "execution_count": null,
   "metadata": {},
   "outputs": [],
   "source": [
    "API_URL = \"https://translate.googleapis.com/translate_a/single\"\n",
    "\n",
    "\n",
    "class Translator(object):\n",
    "    def __init__(self, translate_from, translate_to):\n",
    "        self.payload = {\n",
    "            \"client\": \"gtx\",\n",
    "            \"dt\": \"t\",\n",
    "\n",
    "            \"sl\": translate_from,\n",
    "            \"tl\": translate_to,\n",
    "            \"q\": \"\"\n",
    "        }\n",
    "\n",
    "    def translate(self, word):\n",
    "        self.payload['q'] = word\n",
    "\n",
    "        with requests.Session() as sess:\n",
    "            request = sess.post(API_URL, self.payload)\n",
    "            post_json = request.json()\n",
    "\n",
    "            if request.status_code == 200:\n",
    "                return post_json[0][0][0], post_json[0][0][1]\n",
    "\n",
    "\n"
   ]
  },
  {
   "cell_type": "code",
   "execution_count": null,
   "metadata": {},
   "outputs": [],
   "source": [
    "translator = Translator(\"auto\", \"en\")\n",
    "print(translator.translate(\"Hola\"))\n",
    "# ('Hello', 'Hola')"
   ]
  },
  {
   "cell_type": "markdown",
   "metadata": {},
   "source": [
    "## Utiliser [lingvanex](https://rapidapi.com/Lingvanex/api/lingvanex-translate) pour traduire le texte "
   ]
  },
  {
   "cell_type": "code",
   "execution_count": 20,
   "metadata": {},
   "outputs": [
    {
     "ename": "IndentationError",
     "evalue": "unindent does not match any outer indentation level (<tokenize>, line 37)",
     "output_type": "error",
     "traceback": [
      "\u001b[1;36m  File \u001b[1;32m<tokenize>:37\u001b[1;36m\u001b[0m\n\u001b[1;33m    traduction = translate_text(chemin_fichier, source_lang='fr', target_lang='en')\u001b[0m\n\u001b[1;37m    ^\u001b[0m\n\u001b[1;31mIndentationError\u001b[0m\u001b[1;31m:\u001b[0m unindent does not match any outer indentation level\n"
     ]
    }
   ],
   "source": [
    "\n",
    "url = \"https://api.lingvanex.com/v1/translate\"\n",
    "def translate_text(text, source_lang='fr', target_lang='en'):\n",
    "    \"\"\"\n",
    "    Fonction pour traduire du texte en utilisant l'API Lingvanex.\n",
    "\n",
    "    :param text: Texte à traduire\n",
    "    :param source_lang: Langue source (par défaut: 'fr' pour français)\n",
    "    :param target_lang: Langue cible (par défaut: 'en' pour anglais)\n",
    "    :return: Traduction du texte\n",
    "    \"\"\"\n",
    "    # Paramètres de la requête\n",
    "    payload = {\n",
    "    \n",
    "        'text': text,\n",
    "        'from': source_lang,\n",
    "        'to': target_lang,\n",
    "        'platform': 'api',\n",
    "        'apikey': API_KEY\n",
    "    }\n",
    "\n",
    "     # Envoyer la requête HTTP POST à l'API\n",
    "    response = requests.post(url, data=payload)\n",
    "\n",
    "    # Vérifier si la requête a réussi\n",
    "    if response.status_code == 200:\n",
    "        # Extraire la traduction de la réponse JSON\n",
    "        translation = response.json().get('result', None)\n",
    "        return translation\n",
    "    else:\n",
    "        # Gérer les erreurs\n",
    "        print(f\"Erreur {response.status_code}: {response.text}\")\n",
    "        return None\n",
    "    \n",
    "    # Exemple d'utilisation\n",
    "if __name__ == \"__main__\":\n",
    "     chemin_fichier = \"C:\\Users\\acer\\Desktop\\tac\\tac\\tp1\\pdfs\\KB_JB92_1860-02-09_01-00003\"\n",
    "    traduction = translate_text(chemin_fichier, source_lang='fr', target_lang='en')\n",
    "    \n",
    "    if traduction:\n",
    "        print(f\"Traduction: {traduction}\")\n",
    "    else:\n",
    "        print(\"Erreur lors de la traduction.\")\n"
   ]
  },
  {
   "cell_type": "markdown",
   "metadata": {},
   "source": [
    "## Utiliser REST Countries pour récupérer des informations sur un pays"
   ]
  },
  {
   "cell_type": "markdown",
   "metadata": {},
   "source": [
    "https://restcountries.com/"
   ]
  },
  {
   "cell_type": "code",
   "execution_count": null,
   "metadata": {},
   "outputs": [],
   "source": [
    "country_name = \"Belgium\"\n",
    "\n",
    "base_url = \"https://restcountries.com/v3.1/\"\n",
    "name_url = base_url + \"name/\"\n",
    "code_url = base_url + \"alpha/\"\n",
    "resp = requests.get(name_url + country_name)\n",
    "country = resp.json()[0]\n",
    "try:\n",
    "    languages = country['languages']\n",
    "    print(f\"Languages: {', '.join(languages.values())}\")\n",
    "    border_codes = country['borders']\n",
    "    border_names = []\n",
    "    for code in border_codes:\n",
    "        resp = requests.get(code_url + code)\n",
    "        border_country = resp.json()[0]\n",
    "        border_name = border_country[\"name\"][\"common\"]\n",
    "        border_names.append(border_name)\n",
    "    print(f\"Borders: {', '.join(border_names)}\")\n",
    "except KeyError:\n",
    "    print(\"Unknown country, please use English or native name\")"
   ]
  },
  {
   "cell_type": "markdown",
   "metadata": {},
   "source": [
    "## Pour en savoir plus"
   ]
  },
  {
   "cell_type": "markdown",
   "metadata": {},
   "source": [
    "- Les API Rest: https://towardsdatascience.com/introduction-to-rest-apis-90b5d9676004\n",
    "- La librairie [`requests`](https://requests.readthedocs.io/en/latest/)\n",
    "- Développer une API en Python : https://openclassrooms.com/en/courses/4525361-realisez-un-dashboard-avec-tableau/5774811-creez-une-api-avec-flask"
   ]
  }
 ],
 "metadata": {
  "kernelspec": {
   "display_name": ".env",
   "language": "python",
   "name": "python3"
  },
  "language_info": {
   "codemirror_mode": {
    "name": "ipython",
    "version": 3
   },
   "file_extension": ".py",
   "mimetype": "text/x-python",
   "name": "python",
   "nbconvert_exporter": "python",
   "pygments_lexer": "ipython3",
   "version": "3.11.9"
  }
 },
 "nbformat": 4,
 "nbformat_minor": 4
}
