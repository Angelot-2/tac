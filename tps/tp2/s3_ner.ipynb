{
 "cells": [
  {
   "cell_type": "markdown",
   "metadata": {},
   "source": [
    "# Reconnaissance d'entités nommées avec SpaCy"
   ]
  },
  {
   "cell_type": "markdown",
   "metadata": {},
   "source": [
    "La documentation est accessible ici: https://spacy.io/api"
   ]
  },
  {
   "cell_type": "markdown",
   "metadata": {},
   "source": [
    "## Imports"
   ]
  },
  {
   "cell_type": "code",
   "execution_count": 5,
   "metadata": {},
   "outputs": [
    {
     "name": "stdout",
     "output_type": "stream",
     "text": [
      "Collecting fr-core-news-md==3.5.0\n",
      "  Downloading https://github.com/explosion/spacy-models/releases/download/fr_core_news_md-3.5.0/fr_core_news_md-3.5.0-py3-none-any.whl (45.8 MB)\n",
      "     --------------------------------------- 45.8/45.8 MB 14.4 MB/s eta 0:00:00\n",
      "Requirement already satisfied: spacy<3.6.0,>=3.5.0 in c:\\users\\acer\\desktop\\tac\\tac\\.env\\lib\\site-packages (from fr-core-news-md==3.5.0) (3.5.2)\n",
      "Requirement already satisfied: spacy-legacy<3.1.0,>=3.0.11 in c:\\users\\acer\\desktop\\tac\\tac\\.env\\lib\\site-packages (from spacy<3.6.0,>=3.5.0->fr-core-news-md==3.5.0) (3.0.12)\n",
      "Requirement already satisfied: spacy-loggers<2.0.0,>=1.0.0 in c:\\users\\acer\\desktop\\tac\\tac\\.env\\lib\\site-packages (from spacy<3.6.0,>=3.5.0->fr-core-news-md==3.5.0) (1.0.5)\n",
      "Requirement already satisfied: murmurhash<1.1.0,>=0.28.0 in c:\\users\\acer\\desktop\\tac\\tac\\.env\\lib\\site-packages (from spacy<3.6.0,>=3.5.0->fr-core-news-md==3.5.0) (1.0.10)\n",
      "Requirement already satisfied: cymem<2.1.0,>=2.0.2 in c:\\users\\acer\\desktop\\tac\\tac\\.env\\lib\\site-packages (from spacy<3.6.0,>=3.5.0->fr-core-news-md==3.5.0) (2.0.8)\n",
      "Requirement already satisfied: preshed<3.1.0,>=3.0.2 in c:\\users\\acer\\desktop\\tac\\tac\\.env\\lib\\site-packages (from spacy<3.6.0,>=3.5.0->fr-core-news-md==3.5.0) (3.0.9)\n",
      "Requirement already satisfied: thinc<8.2.0,>=8.1.8 in c:\\users\\acer\\desktop\\tac\\tac\\.env\\lib\\site-packages (from spacy<3.6.0,>=3.5.0->fr-core-news-md==3.5.0) (8.1.12)\n",
      "Requirement already satisfied: wasabi<1.2.0,>=0.9.1 in c:\\users\\acer\\desktop\\tac\\tac\\.env\\lib\\site-packages (from spacy<3.6.0,>=3.5.0->fr-core-news-md==3.5.0) (1.1.3)\n",
      "Requirement already satisfied: srsly<3.0.0,>=2.4.3 in c:\\users\\acer\\desktop\\tac\\tac\\.env\\lib\\site-packages (from spacy<3.6.0,>=3.5.0->fr-core-news-md==3.5.0) (2.4.8)\n",
      "Requirement already satisfied: catalogue<2.1.0,>=2.0.6 in c:\\users\\acer\\desktop\\tac\\tac\\.env\\lib\\site-packages (from spacy<3.6.0,>=3.5.0->fr-core-news-md==3.5.0) (2.0.10)\n",
      "Requirement already satisfied: typer<0.8.0,>=0.3.0 in c:\\users\\acer\\desktop\\tac\\tac\\.env\\lib\\site-packages (from spacy<3.6.0,>=3.5.0->fr-core-news-md==3.5.0) (0.7.0)\n",
      "Requirement already satisfied: pathy>=0.10.0 in c:\\users\\acer\\desktop\\tac\\tac\\.env\\lib\\site-packages (from spacy<3.6.0,>=3.5.0->fr-core-news-md==3.5.0) (0.11.0)\n",
      "Requirement already satisfied: smart-open<7.0.0,>=5.2.1 in c:\\users\\acer\\desktop\\tac\\tac\\.env\\lib\\site-packages (from spacy<3.6.0,>=3.5.0->fr-core-news-md==3.5.0) (6.4.0)\n",
      "Requirement already satisfied: tqdm<5.0.0,>=4.38.0 in c:\\users\\acer\\desktop\\tac\\tac\\.env\\lib\\site-packages (from spacy<3.6.0,>=3.5.0->fr-core-news-md==3.5.0) (4.66.5)\n",
      "Requirement already satisfied: numpy>=1.15.0 in c:\\users\\acer\\desktop\\tac\\tac\\.env\\lib\\site-packages (from spacy<3.6.0,>=3.5.0->fr-core-news-md==3.5.0) (1.26.0)\n",
      "Requirement already satisfied: requests<3.0.0,>=2.13.0 in c:\\users\\acer\\desktop\\tac\\tac\\.env\\lib\\site-packages (from spacy<3.6.0,>=3.5.0->fr-core-news-md==3.5.0) (2.32.0)\n",
      "Requirement already satisfied: pydantic!=1.8,!=1.8.1,<1.11.0,>=1.7.4 in c:\\users\\acer\\desktop\\tac\\tac\\.env\\lib\\site-packages (from spacy<3.6.0,>=3.5.0->fr-core-news-md==3.5.0) (1.10.2)\n",
      "Requirement already satisfied: jinja2 in c:\\users\\acer\\desktop\\tac\\tac\\.env\\lib\\site-packages (from spacy<3.6.0,>=3.5.0->fr-core-news-md==3.5.0) (3.1.4)\n",
      "Requirement already satisfied: setuptools in c:\\users\\acer\\desktop\\tac\\tac\\.env\\lib\\site-packages (from spacy<3.6.0,>=3.5.0->fr-core-news-md==3.5.0) (65.5.0)\n",
      "Requirement already satisfied: packaging>=20.0 in c:\\users\\acer\\desktop\\tac\\tac\\.env\\lib\\site-packages (from spacy<3.6.0,>=3.5.0->fr-core-news-md==3.5.0) (24.1)\n",
      "Requirement already satisfied: langcodes<4.0.0,>=3.2.0 in c:\\users\\acer\\desktop\\tac\\tac\\.env\\lib\\site-packages (from spacy<3.6.0,>=3.5.0->fr-core-news-md==3.5.0) (3.4.1)\n",
      "Requirement already satisfied: language-data>=1.2 in c:\\users\\acer\\desktop\\tac\\tac\\.env\\lib\\site-packages (from langcodes<4.0.0,>=3.2.0->spacy<3.6.0,>=3.5.0->fr-core-news-md==3.5.0) (1.2.0)\n",
      "Requirement already satisfied: pathlib-abc==0.1.1 in c:\\users\\acer\\desktop\\tac\\tac\\.env\\lib\\site-packages (from pathy>=0.10.0->spacy<3.6.0,>=3.5.0->fr-core-news-md==3.5.0) (0.1.1)\n",
      "Requirement already satisfied: typing-extensions>=4.1.0 in c:\\users\\acer\\desktop\\tac\\tac\\.env\\lib\\site-packages (from pydantic!=1.8,!=1.8.1,<1.11.0,>=1.7.4->spacy<3.6.0,>=3.5.0->fr-core-news-md==3.5.0) (4.12.2)\n",
      "Requirement already satisfied: charset-normalizer<4,>=2 in c:\\users\\acer\\desktop\\tac\\tac\\.env\\lib\\site-packages (from requests<3.0.0,>=2.13.0->spacy<3.6.0,>=3.5.0->fr-core-news-md==3.5.0) (3.3.2)\n",
      "Requirement already satisfied: idna<4,>=2.5 in c:\\users\\acer\\desktop\\tac\\tac\\.env\\lib\\site-packages (from requests<3.0.0,>=2.13.0->spacy<3.6.0,>=3.5.0->fr-core-news-md==3.5.0) (3.10)\n",
      "Requirement already satisfied: urllib3<3,>=1.21.1 in c:\\users\\acer\\desktop\\tac\\tac\\.env\\lib\\site-packages (from requests<3.0.0,>=2.13.0->spacy<3.6.0,>=3.5.0->fr-core-news-md==3.5.0) (2.2.3)\n",
      "Requirement already satisfied: certifi>=2017.4.17 in c:\\users\\acer\\desktop\\tac\\tac\\.env\\lib\\site-packages (from requests<3.0.0,>=2.13.0->spacy<3.6.0,>=3.5.0->fr-core-news-md==3.5.0) (2024.8.30)\n",
      "Requirement already satisfied: blis<0.8.0,>=0.7.8 in c:\\users\\acer\\desktop\\tac\\tac\\.env\\lib\\site-packages (from thinc<8.2.0,>=8.1.8->spacy<3.6.0,>=3.5.0->fr-core-news-md==3.5.0) (0.7.11)\n",
      "Requirement already satisfied: confection<1.0.0,>=0.0.1 in c:\\users\\acer\\desktop\\tac\\tac\\.env\\lib\\site-packages (from thinc<8.2.0,>=8.1.8->spacy<3.6.0,>=3.5.0->fr-core-news-md==3.5.0) (0.1.5)\n",
      "Requirement already satisfied: colorama in c:\\users\\acer\\desktop\\tac\\tac\\.env\\lib\\site-packages (from tqdm<5.0.0,>=4.38.0->spacy<3.6.0,>=3.5.0->fr-core-news-md==3.5.0) (0.4.6)\n",
      "Requirement already satisfied: click<9.0.0,>=7.1.1 in c:\\users\\acer\\desktop\\tac\\tac\\.env\\lib\\site-packages (from typer<0.8.0,>=0.3.0->spacy<3.6.0,>=3.5.0->fr-core-news-md==3.5.0) (8.1.7)\n",
      "Requirement already satisfied: MarkupSafe>=2.0 in c:\\users\\acer\\desktop\\tac\\tac\\.env\\lib\\site-packages (from jinja2->spacy<3.6.0,>=3.5.0->fr-core-news-md==3.5.0) (3.0.2)\n",
      "Requirement already satisfied: marisa-trie>=0.7.7 in c:\\users\\acer\\desktop\\tac\\tac\\.env\\lib\\site-packages (from language-data>=1.2->langcodes<4.0.0,>=3.2.0->spacy<3.6.0,>=3.5.0->fr-core-news-md==3.5.0) (1.2.1)\n",
      "\u001b[38;5;2m✔ Download and installation successful\u001b[0m\n",
      "You can now load the package via spacy.load('fr_core_news_md')\n"
     ]
    },
    {
     "name": "stderr",
     "output_type": "stream",
     "text": [
      "2024-11-04 10:05:13.570879: I tensorflow/core/util/port.cc:153] oneDNN custom operations are on. You may see slightly different numerical results due to floating-point round-off errors from different computation orders. To turn them off, set the environment variable `TF_ENABLE_ONEDNN_OPTS=0`.\n",
      "2024-11-04 10:05:15.679150: I tensorflow/core/util/port.cc:153] oneDNN custom operations are on. You may see slightly different numerical results due to floating-point round-off errors from different computation orders. To turn them off, set the environment variable `TF_ENABLE_ONEDNN_OPTS=0`.\n",
      "\n",
      "[notice] A new release of pip is available: 24.2 -> 24.3.1\n",
      "[notice] To update, run: python.exe -m pip install --upgrade pip\n"
     ]
    }
   ],
   "source": [
    "from collections import defaultdict\n",
    "import spacy\n",
    "from spacy.lang.fr.examples import sentences\n",
    "!python -m spacy download fr_core_news_md"
   ]
  },
  {
   "cell_type": "code",
   "execution_count": 6,
   "metadata": {},
   "outputs": [],
   "source": [
    "nlp = spacy.load('fr_core_news_md')"
   ]
  },
  {
   "cell_type": "markdown",
   "metadata": {},
   "source": [
    "## Exemple sur un corpus de test fourni par SpaCy"
   ]
  },
  {
   "cell_type": "code",
   "execution_count": 7,
   "metadata": {},
   "outputs": [
    {
     "data": {
      "text/plain": [
       "['Apple cherche à acheter une start-up anglaise pour 1 milliard de dollars',\n",
       " \"Les voitures autonomes déplacent la responsabilité de l'assurance vers les constructeurs\",\n",
       " \"San Francisco envisage d'interdire les robots coursiers sur les trottoirs\",\n",
       " 'Londres est une grande ville du Royaume-Uni',\n",
       " 'L’Italie choisit ArcelorMittal pour reprendre la plus grande aciérie d’Europe',\n",
       " \"Apple lance HomePod parce qu'il se sent menacé par l'Echo d'Amazon\",\n",
       " \"La France ne devrait pas manquer d'électricité cet été, même en cas de canicule\",\n",
       " 'Nouvelles attaques de Trump contre le maire de Londres',\n",
       " 'Où es-tu ?',\n",
       " 'Qui est le président de la France ?',\n",
       " 'Où est la capitale des États-Unis ?',\n",
       " 'Quand est né Barack Obama ?']"
      ]
     },
     "execution_count": 7,
     "metadata": {},
     "output_type": "execute_result"
    }
   ],
   "source": [
    "# Imprimer le corpus de Spacy\n",
    "sentences"
   ]
  },
  {
   "cell_type": "code",
   "execution_count": 8,
   "metadata": {},
   "outputs": [
    {
     "data": {
      "text/plain": [
       "\"Les voitures autonomes déplacent la responsabilité de l'assurance vers les constructeurs\""
      ]
     },
     "execution_count": 8,
     "metadata": {},
     "output_type": "execute_result"
    }
   ],
   "source": [
    "# Isoler la première phrase\n",
    "sent = sentences[1]\n",
    "sent"
   ]
  },
  {
   "cell_type": "code",
   "execution_count": 9,
   "metadata": {},
   "outputs": [],
   "source": [
    "# Traiter la phrase avec Spacy\n",
    "doc = nlp(sent)"
   ]
  },
  {
   "cell_type": "code",
   "execution_count": 10,
   "metadata": {},
   "outputs": [
    {
     "data": {
      "text/plain": [
       "spacy.tokens.doc.Doc"
      ]
     },
     "execution_count": 10,
     "metadata": {},
     "output_type": "execute_result"
    }
   ],
   "source": [
    "type(doc)"
   ]
  },
  {
   "cell_type": "code",
   "execution_count": 11,
   "metadata": {},
   "outputs": [
    {
     "data": {
      "text/plain": [
       "\"Les voitures autonomes déplacent la responsabilité de l'assurance vers les constructeurs\""
      ]
     },
     "execution_count": 11,
     "metadata": {},
     "output_type": "execute_result"
    }
   ],
   "source": [
    "doc.text"
   ]
  },
  {
   "cell_type": "code",
   "execution_count": 12,
   "metadata": {},
   "outputs": [
    {
     "data": {
      "text/plain": [
       "{'text': \"Les voitures autonomes déplacent la responsabilité de l'assurance vers les constructeurs\",\n",
       " 'ents': [],\n",
       " 'sents': [{'start': 0, 'end': 88}],\n",
       " 'tokens': [{'id': 0,\n",
       "   'start': 0,\n",
       "   'end': 3,\n",
       "   'tag': 'DET',\n",
       "   'pos': 'DET',\n",
       "   'morph': 'Definite=Def|Number=Plur|PronType=Art',\n",
       "   'lemma': 'le',\n",
       "   'dep': 'det',\n",
       "   'head': 1},\n",
       "  {'id': 1,\n",
       "   'start': 4,\n",
       "   'end': 12,\n",
       "   'tag': 'NOUN',\n",
       "   'pos': 'NOUN',\n",
       "   'morph': 'Gender=Fem|Number=Plur',\n",
       "   'lemma': 'voiture',\n",
       "   'dep': 'nsubj',\n",
       "   'head': 3},\n",
       "  {'id': 2,\n",
       "   'start': 13,\n",
       "   'end': 22,\n",
       "   'tag': 'ADJ',\n",
       "   'pos': 'ADJ',\n",
       "   'morph': 'Number=Plur',\n",
       "   'lemma': 'autonome',\n",
       "   'dep': 'amod',\n",
       "   'head': 1},\n",
       "  {'id': 3,\n",
       "   'start': 23,\n",
       "   'end': 32,\n",
       "   'tag': 'VERB',\n",
       "   'pos': 'VERB',\n",
       "   'morph': 'Mood=Ind|Number=Plur|Person=3|Tense=Pres|VerbForm=Fin',\n",
       "   'lemma': 'déplacer',\n",
       "   'dep': 'ROOT',\n",
       "   'head': 3},\n",
       "  {'id': 4,\n",
       "   'start': 33,\n",
       "   'end': 35,\n",
       "   'tag': 'DET',\n",
       "   'pos': 'DET',\n",
       "   'morph': 'Definite=Def|Gender=Fem|Number=Sing|PronType=Art',\n",
       "   'lemma': 'le',\n",
       "   'dep': 'det',\n",
       "   'head': 5},\n",
       "  {'id': 5,\n",
       "   'start': 36,\n",
       "   'end': 50,\n",
       "   'tag': 'NOUN',\n",
       "   'pos': 'NOUN',\n",
       "   'morph': 'Gender=Fem|Number=Sing',\n",
       "   'lemma': 'responsabilité',\n",
       "   'dep': 'obj',\n",
       "   'head': 3},\n",
       "  {'id': 6,\n",
       "   'start': 51,\n",
       "   'end': 53,\n",
       "   'tag': 'ADP',\n",
       "   'pos': 'ADP',\n",
       "   'morph': '',\n",
       "   'lemma': 'de',\n",
       "   'dep': 'case',\n",
       "   'head': 8},\n",
       "  {'id': 7,\n",
       "   'start': 54,\n",
       "   'end': 56,\n",
       "   'tag': 'DET',\n",
       "   'pos': 'DET',\n",
       "   'morph': 'Definite=Def|Number=Sing|PronType=Art',\n",
       "   'lemma': 'le',\n",
       "   'dep': 'det',\n",
       "   'head': 8},\n",
       "  {'id': 8,\n",
       "   'start': 56,\n",
       "   'end': 65,\n",
       "   'tag': 'NOUN',\n",
       "   'pos': 'NOUN',\n",
       "   'morph': 'Gender=Fem|Number=Sing',\n",
       "   'lemma': 'assurance',\n",
       "   'dep': 'nmod',\n",
       "   'head': 5},\n",
       "  {'id': 9,\n",
       "   'start': 66,\n",
       "   'end': 70,\n",
       "   'tag': 'ADP',\n",
       "   'pos': 'ADP',\n",
       "   'morph': '',\n",
       "   'lemma': 'vers',\n",
       "   'dep': 'case',\n",
       "   'head': 11},\n",
       "  {'id': 10,\n",
       "   'start': 71,\n",
       "   'end': 74,\n",
       "   'tag': 'DET',\n",
       "   'pos': 'DET',\n",
       "   'morph': 'Definite=Def|Number=Plur|PronType=Art',\n",
       "   'lemma': 'le',\n",
       "   'dep': 'det',\n",
       "   'head': 11},\n",
       "  {'id': 11,\n",
       "   'start': 75,\n",
       "   'end': 88,\n",
       "   'tag': 'NOUN',\n",
       "   'pos': 'NOUN',\n",
       "   'morph': 'Gender=Masc|Number=Plur',\n",
       "   'lemma': 'constructeur',\n",
       "   'dep': 'obl:mod',\n",
       "   'head': 3}]}"
      ]
     },
     "execution_count": 12,
     "metadata": {},
     "output_type": "execute_result"
    }
   ],
   "source": [
    "doc.to_json()"
   ]
  },
  {
   "cell_type": "code",
   "execution_count": 13,
   "metadata": {},
   "outputs": [
    {
     "name": "stdout",
     "output_type": "stream",
     "text": [
      "'Apple cherche à acheter une start-up anglaise pour 1 milliard de dollars' contient les entités suivantes : Apple (ORG)\n",
      "'Les voitures autonomes déplacent la responsabilité de l'assurance vers les constructeurs' ne contient aucune entité\n",
      "'San Francisco envisage d'interdire les robots coursiers sur les trottoirs' contient les entités suivantes : San Francisco (LOC)\n",
      "'Londres est une grande ville du Royaume-Uni' contient les entités suivantes : Londres (LOC), Royaume-Uni (LOC)\n",
      "'L’Italie choisit ArcelorMittal pour reprendre la plus grande aciérie d’Europe' contient les entités suivantes : L’Italie (LOC), ArcelorMittal (ORG), Europe (LOC)\n",
      "'Apple lance HomePod parce qu'il se sent menacé par l'Echo d'Amazon' contient les entités suivantes : Apple (ORG), HomePod (MISC), Echo (MISC), Amazon (ORG)\n",
      "'La France ne devrait pas manquer d'électricité cet été, même en cas de canicule' contient les entités suivantes : La France (LOC)\n",
      "'Nouvelles attaques de Trump contre le maire de Londres' contient les entités suivantes : Nouvelles attaques (MISC), Trump (PER), Londres (LOC)\n",
      "'Où es-tu ?' ne contient aucune entité\n",
      "'Qui est le président de la France ?' contient les entités suivantes : la France (LOC)\n",
      "'Où est la capitale des États-Unis ?' contient les entités suivantes : États-Unis (LOC)\n",
      "'Quand est né Barack Obama ?' contient les entités suivantes : Barack Obama (PER)\n"
     ]
    }
   ],
   "source": [
    "# Appliquer le test sur toutes les phrases\n",
    "for sent in sentences:\n",
    "    doc = nlp(sent)\n",
    "    entities = []\n",
    "    for ent in doc.ents:\n",
    "        entities.append(f\"{ent.text} ({ent.label_})\")\n",
    "    if entities:\n",
    "        print(f\"'{doc.text}' contient les entités suivantes : {', '.join(entities)}\")\n",
    "    else:\n",
    "        print(f\"'{doc.text}' ne contient aucune entité\")"
   ]
  },
  {
   "cell_type": "markdown",
   "metadata": {},
   "source": [
    "## Appliquer la reconnaissance d'entités nommées sur notre corpus"
   ]
  },
  {
   "cell_type": "code",
   "execution_count": 19,
   "metadata": {},
   "outputs": [],
   "source": [
    "# Charger le texte\n",
    "n=100000\n",
    "text = open(\"txt\\KB_JB838_1887-12-22_01-00001.txt\", encoding='utf-8').read()[:n]"
   ]
  },
  {
   "cell_type": "code",
   "execution_count": 15,
   "metadata": {},
   "outputs": [
    {
     "name": "stdout",
     "output_type": "stream",
     "text": [
      "CPU times: total: 1.95 s\n",
      "Wall time: 2.61 s\n"
     ]
    }
   ],
   "source": [
    "%%time\n",
    "# Traiter le texte\n",
    "doc = nlp(text)"
   ]
  },
  {
   "cell_type": "code",
   "execution_count": 25,
   "metadata": {},
   "outputs": [],
   "source": [
    "# Compter les entités\n",
    "people = defaultdict(int)\n",
    "for ent in doc.ents:\n",
    "    if ent.label_ == \"PER\" and len(ent.text) > 3:\n",
    "        people[ent.text] += 1"
   ]
  },
  {
   "cell_type": "code",
   "execution_count": 26,
   "metadata": {},
   "outputs": [
    {
     "name": "stdout",
     "output_type": "stream",
     "text": [
      "Louvel apparait 3 fois dans le corpus\n",
      "Morey apparait 2 fois dans le corpus\n",
      "Pépin apparait 2 fois dans le corpus\n",
      "Thérèse apparait 2 fois dans le corpus\n",
      "et.en province apparait 1 fois dans le corpus\n",
      "frie d’Isabelle apparait 1 fois dans le corpus\n",
      "Aubert apparait 1 fois dans le corpus\n",
      "Auber apparait 1 fois dans le corpus\n",
      "Aristogiton apparait 1 fois dans le corpus\n",
      "depuil Brutus apparait 1 fois dans le corpus\n",
      "Cassius apparait 1 fois dans le corpus\n",
      "navecmernt apparait 1 fois dans le corpus\n",
      "notrrJ temps apparait 1 fois dans le corpus\n",
      "duc de Berry apparait 1 fois dans le corpus\n",
      "Louvois apparait 1 fois dans le corpus\n",
      "envic apparait 1 fois dans le corpus\n",
      "Louis-Philippe apparait 1 fois dans le corpus\n",
      "cetté époque apparait 1 fois dans le corpus\n",
      "Fieschi apparait 1 fois dans le corpus\n",
      "Ctus ’Héros 'et üe» apparait 1 fois dans le corpus\n",
      "Jacques Clément apparait 1 fois dans le corpus\n",
      "Henri III apparait 1 fois dans le corpus\n",
      "Dieuoutragé apparait 1 fois dans le corpus\n",
      "Liorsquo Louvel apparait 1 fois dans le corpus\n",
      "leûttc de Berry apparait 1 fois dans le corpus\n",
      "Bcmaparte apparait 1 fois dans le corpus\n",
      "Orsini apparait 1 fois dans le corpus\n",
      "étre fe{5 apparait 1 fois dans le corpus\n",
      "George Cadoudal apparait 1 fois dans le corpus\n",
      "jjyu apparait 1 fois dans le corpus\n",
      "Cadoudal apparait 1 fois dans le corpus\n",
      "Prcnyer Consul apparait 1 fois dans le corpus\n",
      "lier Consul apparait 1 fois dans le corpus\n",
      "Breton apparait 1 fois dans le corpus\n",
      "Napoléon III apparait 1 fois dans le corpus\n",
      "Aubcrtin apparait 1 fois dans le corpus\n",
      "otmmne facétieux apparait 1 fois dans le corpus\n",
      "Ràfâiliâc apparait 1 fois dans le corpus\n",
      "Joseph Martin apparait 1 fois dans le corpus\n",
      "Auguste Orts apparait 1 fois dans le corpus\n",
      "M. Desseille apparait 1 fois dans le corpus\n",
      "Ave-et-Auffe apparait 1 fois dans le corpus\n",
      "médaille dè i re classo apparait 1 fois dans le corpus\n",
      "MM. Stenuit apparait 1 fois dans le corpus\n",
      "De Wdegenaerc apparait 1 fois dans le corpus\n",
      "MM. Hequet apparait 1 fois dans le corpus\n",
      "Bruyer apparait 1 fois dans le corpus\n",
      "Yaiiliolstraele apparait 1 fois dans le corpus\n",
      "Vandcrstraetcn apparait 1 fois dans le corpus\n",
      "Samyn apparait 1 fois dans le corpus\n"
     ]
    }
   ],
   "source": [
    "# Trier et imprimer\n",
    "\n",
    "sorted_people = sorted(people.items(), key=lambda kv: kv[1], reverse=True)\n",
    "\n",
    "for person, freq in sorted_people[:50]:\n",
    "    print(f\"{person} apparait {freq} fois dans le corpus\")"
   ]
  },
  {
   "cell_type": "markdown",
   "metadata": {},
   "source": [
    "Exercice: essayez de lister les lieux (LOC) et les organisations (ORG) les plus mentionnées dans le corpus"
   ]
  },
  {
   "cell_type": "code",
   "execution_count": null,
   "metadata": {},
   "outputs": [],
   "source": []
  }
 ],
 "metadata": {
  "kernelspec": {
   "display_name": ".env",
   "language": "python",
   "name": "python3"
  },
  "language_info": {
   "codemirror_mode": {
    "name": "ipython",
    "version": 3
   },
   "file_extension": ".py",
   "mimetype": "text/x-python",
   "name": "python",
   "nbconvert_exporter": "python",
   "pygments_lexer": "ipython3",
   "version": "3.11.9"
  }
 },
 "nbformat": 4,
 "nbformat_minor": 4
}
